{
 "cells": [
  {
   "cell_type": "markdown",
   "metadata": {},
   "source": [
    "# Unit 5 - Financial Planning\n"
   ]
  },
  {
   "cell_type": "code",
   "execution_count": 2,
   "metadata": {},
   "outputs": [],
   "source": [
    "# Initial imports\n",
    "import os\n",
    "import requests\n",
    "import pandas as pd\n",
    "from dotenv import load_dotenv\n",
    "import alpaca_trade_api as tradeapi\n",
    "from MCForecastTools import MCSimulation\n",
    "\n",
    "%matplotlib inline"
   ]
  },
  {
   "cell_type": "code",
   "execution_count": 3,
   "metadata": {},
   "outputs": [
    {
     "data": {
      "text/plain": [
       "True"
      ]
     },
     "execution_count": 3,
     "metadata": {},
     "output_type": "execute_result"
    }
   ],
   "source": [
    "# Load .env enviroment variables\n",
    "load_dotenv()"
   ]
  },
  {
   "cell_type": "markdown",
   "metadata": {},
   "source": [
    "## Part 1 - Personal Finance Planner"
   ]
  },
  {
   "cell_type": "markdown",
   "metadata": {},
   "source": [
    "### Collect Crypto Prices Using the `requests` Library"
   ]
  },
  {
   "cell_type": "code",
   "execution_count": 4,
   "metadata": {},
   "outputs": [],
   "source": [
    "# Set current amount of crypto assets\n",
    "my_btc = 1.2\n",
    "my_eth = 5.3"
   ]
  },
  {
   "cell_type": "code",
   "execution_count": 7,
   "metadata": {},
   "outputs": [],
   "source": [
    "# Crypto API URLs\n",
    "btc_url = \"https://api.alternative.me/v2/ticker/Bitcoin/?convert=CAD\"\n",
    "eth_url = \"https://api.alternative.me/v2/ticker/Ethereum/?convert=CAD\""
   ]
  },
  {
   "cell_type": "code",
   "execution_count": 9,
   "metadata": {},
   "outputs": [
    {
     "name": "stdout",
     "output_type": "stream",
     "text": [
      "The current value of your 1.2 BTC is $14316.79\n",
      "The current value of your 5.3 ETH is $1953.74\n"
     ]
    }
   ],
   "source": [
    "# Fetch current BTC price\n",
    "response_data = requests.get(btc_url).json()\n",
    "price_btc = response_data['data']['1']['quotes']['USD']['price']\n",
    "\n",
    "# Fetch current ETH price\n",
    "response_data = requests.get(eth_url).json()\n",
    "price_eth = response_data['data']['1027']['quotes']['USD']['price']\n",
    "\n",
    "# Compute current value of my crpto\n",
    "my_btc_value = my_btc * price_btc\n",
    "my_eth_value = my_eth * price_eth\n",
    "\n",
    "# Print current crypto wallet balance\n",
    "print(f\"The current value of your {my_btc} BTC is ${my_btc_value:0.2f}\")\n",
    "print(f\"The current value of your {my_eth} ETH is ${my_eth_value:0.2f}\")"
   ]
  },
  {
   "cell_type": "markdown",
   "metadata": {},
   "source": [
    "### Collect Investments Data Using Alpaca: `SPY` (stocks) and `AGG` (bonds)"
   ]
  },
  {
   "cell_type": "code",
   "execution_count": 10,
   "metadata": {},
   "outputs": [],
   "source": [
    "# Current amount of shares\n",
    "my_spy = 50\n",
    "my_agg = 200"
   ]
  },
  {
   "cell_type": "code",
   "execution_count": 11,
   "metadata": {},
   "outputs": [],
   "source": [
    "# Set Alpaca API key and secret\n",
    "alpaca_api_key = os.getenv(\"ALPACA_API_KEY\")\n",
    "alpaca_secret_key = os.getenv(\"ALPACA_SECRET_KEY\")\n",
    "\n",
    "# Create the Alpaca API object\n",
    "alpaca = tradeapi.REST(\n",
    "    alpaca_api_key,\n",
    "    alpaca_secret_key,\n",
    "    api_version=\"v2\")"
   ]
  },
  {
   "cell_type": "code",
   "execution_count": 12,
   "metadata": {},
   "outputs": [
    {
     "data": {
      "text/html": [
       "<div>\n",
       "<style scoped>\n",
       "    .dataframe tbody tr th:only-of-type {\n",
       "        vertical-align: middle;\n",
       "    }\n",
       "\n",
       "    .dataframe tbody tr th {\n",
       "        vertical-align: top;\n",
       "    }\n",
       "\n",
       "    .dataframe thead tr th {\n",
       "        text-align: left;\n",
       "    }\n",
       "</style>\n",
       "<table border=\"1\" class=\"dataframe\">\n",
       "  <thead>\n",
       "    <tr>\n",
       "      <th></th>\n",
       "      <th colspan=\"5\" halign=\"left\">AGG</th>\n",
       "      <th colspan=\"5\" halign=\"left\">SPY</th>\n",
       "    </tr>\n",
       "    <tr>\n",
       "      <th></th>\n",
       "      <th>open</th>\n",
       "      <th>high</th>\n",
       "      <th>low</th>\n",
       "      <th>close</th>\n",
       "      <th>volume</th>\n",
       "      <th>open</th>\n",
       "      <th>high</th>\n",
       "      <th>low</th>\n",
       "      <th>close</th>\n",
       "      <th>volume</th>\n",
       "    </tr>\n",
       "  </thead>\n",
       "  <tbody>\n",
       "    <tr>\n",
       "      <th>2020-10-16 00:00:00-04:00</th>\n",
       "      <td>117.99</td>\n",
       "      <td>118.0778</td>\n",
       "      <td>117.88</td>\n",
       "      <td>117.88</td>\n",
       "      <td>3589312</td>\n",
       "      <td>348.96</td>\n",
       "      <td>350.75</td>\n",
       "      <td>347.1</td>\n",
       "      <td>347.25</td>\n",
       "      <td>62467863</td>\n",
       "    </tr>\n",
       "  </tbody>\n",
       "</table>\n",
       "</div>"
      ],
      "text/plain": [
       "                              AGG                                        SPY  \\\n",
       "                             open      high     low   close   volume    open   \n",
       "2020-10-16 00:00:00-04:00  117.99  118.0778  117.88  117.88  3589312  348.96   \n",
       "\n",
       "                                                            \n",
       "                             high    low   close    volume  \n",
       "2020-10-16 00:00:00-04:00  350.75  347.1  347.25  62467863  "
      ]
     },
     "execution_count": 12,
     "metadata": {},
     "output_type": "execute_result"
    }
   ],
   "source": [
    "# Format current date as ISO format\n",
    "now = pd.Timestamp(\"2020-10-16\", tz=\"America/New_York\").isoformat()\n",
    "\n",
    "# Set the tickers\n",
    "tickers = [\"AGG\", \"SPY\"]\n",
    "\n",
    "# Set timeframe to '1D' for Alpaca API\n",
    "timeframe = \"1D\"\n",
    "\n",
    "# Get current closing prices for SPY and AGG\n",
    "data = alpaca.get_barset(\n",
    "    tickers,\n",
    "    timeframe,\n",
    "    start = now,\n",
    "    end = now\n",
    ").df\n",
    "\n",
    "# Preview DataFrame\n",
    "data"
   ]
  },
  {
   "cell_type": "code",
   "execution_count": 13,
   "metadata": {},
   "outputs": [
    {
     "name": "stdout",
     "output_type": "stream",
     "text": [
      "Current AGG closing price: $117.88\n",
      "Current SPY closing price: $347.25\n"
     ]
    }
   ],
   "source": [
    "# Pick AGG and SPY close prices\n",
    "agg_close_price = data[\"AGG\"][\"close\"][0]\n",
    "spy_close_price = data[\"SPY\"][\"close\"][0]\n",
    "\n",
    "# Print AGG and SPY close prices\n",
    "print(f\"Current AGG closing price: ${agg_close_price}\")\n",
    "print(f\"Current SPY closing price: ${spy_close_price}\")"
   ]
  },
  {
   "cell_type": "code",
   "execution_count": 48,
   "metadata": {},
   "outputs": [
    {
     "name": "stdout",
     "output_type": "stream",
     "text": [
      "The current value of your 50 SPY shares is $17362.50\n",
      "The current value of your 200 AGG shares is $23576.00\n"
     ]
    }
   ],
   "source": [
    "# Compute the current value of shares\n",
    "my_spy_value = my_spy * spy_close_price\n",
    "my_agg_value = my_agg * agg_close_price\n",
    "\n",
    "# Print current value of share\n",
    "print(f\"The current value of your {my_spy} SPY shares is ${my_spy_value:0.2f}\")\n",
    "print(f\"The current value of your {my_agg} AGG shares is ${my_agg_value:0.2f}\")"
   ]
  },
  {
   "cell_type": "markdown",
   "metadata": {},
   "source": [
    "### Savings Health Analysis"
   ]
  },
  {
   "cell_type": "code",
   "execution_count": 85,
   "metadata": {},
   "outputs": [
    {
     "data": {
      "text/html": [
       "<div>\n",
       "<style scoped>\n",
       "    .dataframe tbody tr th:only-of-type {\n",
       "        vertical-align: middle;\n",
       "    }\n",
       "\n",
       "    .dataframe tbody tr th {\n",
       "        vertical-align: top;\n",
       "    }\n",
       "\n",
       "    .dataframe thead th {\n",
       "        text-align: right;\n",
       "    }\n",
       "</style>\n",
       "<table border=\"1\" class=\"dataframe\">\n",
       "  <thead>\n",
       "    <tr style=\"text-align: right;\">\n",
       "      <th></th>\n",
       "      <th>amount</th>\n",
       "    </tr>\n",
       "  </thead>\n",
       "  <tbody>\n",
       "    <tr>\n",
       "      <th>Crypto Value</th>\n",
       "      <td>15760.191</td>\n",
       "    </tr>\n",
       "    <tr>\n",
       "      <th>Stock Value</th>\n",
       "      <td>75344.000</td>\n",
       "    </tr>\n",
       "  </tbody>\n",
       "</table>\n",
       "</div>"
      ],
      "text/plain": [
       "                 amount\n",
       "Crypto Value  15760.191\n",
       "Stock Value   75344.000"
      ]
     },
     "metadata": {},
     "output_type": "display_data"
    }
   ],
   "source": [
    "# Set monthly household income\n",
    "monthly_income = 12000\n",
    "\n",
    "# Create savings DataFrame\n",
    "df_savings = pd.DataFrame(\n",
    "    [\n",
    "        [my_btc_value + my_eth_value],\n",
    "        [my_spy_value + my_agg_value]\n",
    "    ],\n",
    "    index = [\"Crypto Value\", \"Stock Value\"],\n",
    "    columns = [\"amount\"]\n",
    ")\n",
    "\n",
    "# Display savings DataFrame\n",
    "display(df_savings)"
   ]
  },
  {
   "cell_type": "code",
   "execution_count": 92,
   "metadata": {},
   "outputs": [
    {
     "data": {
      "text/plain": [
       "<matplotlib.axes._subplots.AxesSubplot at 0x18f41dd7e80>"
      ]
     },
     "execution_count": 92,
     "metadata": {},
     "output_type": "execute_result"
    },
    {
     "data": {
      "image/png": "[encoded data removed]",
      "text/plain": [
       "<Figure size 576x576 with 1 Axes>"
      ]
     },
     "metadata": {},
     "output_type": "display_data"
    }
   ],
   "source": [
    "# Plot savings pie chart\n",
    "df_savings.plot(kind = \"pie\", y = \"amount\", figsize = (8, 8))"
   ]
  },
  {
   "cell_type": "code",
   "execution_count": 103,
   "metadata": {},
   "outputs": [
    {
     "name": "stdout",
     "output_type": "stream",
     "text": [
      "Congratulations for having enough money in this fund!\n"
     ]
    }
   ],
   "source": [
    "# Set ideal emergency fund\n",
    "emergency_fund = monthly_income * 3\n",
    "\n",
    "# Calculate total amount of savings\n",
    "total_savings = df_savings[\"amount\"][\"Crypto Value\"] + \\\n",
    "    df_savings[\"amount\"][\"Stock Value\"]\n",
    "\n",
    "# Validate saving health\n",
    "if total_savings > emergency_fund:\n",
    "    print(\"Congratulations for having enough money in this fund!\")\n",
    "elif total_savings == emergency_fund:\n",
    "    print(\"Congratulations for reaching your financial goal.\")\n",
    "else:\n",
    "    print(f\"You are ${(emergency_fund - total_savings):0.2f} away from reaching your goal.\")\n"
   ]
  },
  {
   "cell_type": "markdown",
   "metadata": {},
   "source": [
    "## Part 2 - Retirement Planning\n",
    "\n",
    "### Monte Carlo Simulation"
   ]
  },
  {
   "cell_type": "code",
   "execution_count": 16,
   "metadata": {},
   "outputs": [],
   "source": [
    "# Set start and end dates of five years back from today.\n",
    "# Sample results may vary from the solution based on the time frame chosen\n",
    "start_date = pd.Timestamp('2015-08-07', tz='America/New_York').isoformat()\n",
    "end_date = pd.Timestamp('2020-08-07', tz='America/New_York').isoformat()"
   ]
  },
  {
   "cell_type": "code",
   "execution_count": 17,
   "metadata": {},
   "outputs": [
    {
     "data": {
      "text/html": [
       "<div>\n",
       "<style scoped>\n",
       "    .dataframe tbody tr th:only-of-type {\n",
       "        vertical-align: middle;\n",
       "    }\n",
       "\n",
       "    .dataframe tbody tr th {\n",
       "        vertical-align: top;\n",
       "    }\n",
       "\n",
       "    .dataframe thead tr th {\n",
       "        text-align: left;\n",
       "    }\n",
       "</style>\n",
       "<table border=\"1\" class=\"dataframe\">\n",
       "  <thead>\n",
       "    <tr>\n",
       "      <th></th>\n",
       "      <th colspan=\"5\" halign=\"left\">AGG</th>\n",
       "      <th colspan=\"5\" halign=\"left\">SPY</th>\n",
       "    </tr>\n",
       "    <tr>\n",
       "      <th></th>\n",
       "      <th>open</th>\n",
       "      <th>high</th>\n",
       "      <th>low</th>\n",
       "      <th>close</th>\n",
       "      <th>volume</th>\n",
       "      <th>open</th>\n",
       "      <th>high</th>\n",
       "      <th>low</th>\n",
       "      <th>close</th>\n",
       "      <th>volume</th>\n",
       "    </tr>\n",
       "  </thead>\n",
       "  <tbody>\n",
       "    <tr>\n",
       "      <th>2015-08-07 00:00:00-04:00</th>\n",
       "      <td>109.14</td>\n",
       "      <td>109.2750</td>\n",
       "      <td>109.035</td>\n",
       "      <td>109.21</td>\n",
       "      <td>2041167.0</td>\n",
       "      <td>208.16</td>\n",
       "      <td>208.34</td>\n",
       "      <td>206.87</td>\n",
       "      <td>207.93</td>\n",
       "      <td>87669782</td>\n",
       "    </tr>\n",
       "    <tr>\n",
       "      <th>2015-08-10 00:00:00-04:00</th>\n",
       "      <td>109.15</td>\n",
       "      <td>109.1700</td>\n",
       "      <td>108.920</td>\n",
       "      <td>109.06</td>\n",
       "      <td>1149778.0</td>\n",
       "      <td>209.28</td>\n",
       "      <td>210.67</td>\n",
       "      <td>209.28</td>\n",
       "      <td>210.58</td>\n",
       "      <td>66755890</td>\n",
       "    </tr>\n",
       "    <tr>\n",
       "      <th>2015-08-11 00:00:00-04:00</th>\n",
       "      <td>109.42</td>\n",
       "      <td>109.5765</td>\n",
       "      <td>109.284</td>\n",
       "      <td>109.42</td>\n",
       "      <td>1420907.0</td>\n",
       "      <td>208.98</td>\n",
       "      <td>209.47</td>\n",
       "      <td>207.76</td>\n",
       "      <td>208.63</td>\n",
       "      <td>88424557</td>\n",
       "    </tr>\n",
       "    <tr>\n",
       "      <th>2015-08-12 00:00:00-04:00</th>\n",
       "      <td>109.55</td>\n",
       "      <td>109.7100</td>\n",
       "      <td>109.350</td>\n",
       "      <td>109.36</td>\n",
       "      <td>1468979.0</td>\n",
       "      <td>207.11</td>\n",
       "      <td>209.14</td>\n",
       "      <td>205.36</td>\n",
       "      <td>208.89</td>\n",
       "      <td>136171450</td>\n",
       "    </tr>\n",
       "    <tr>\n",
       "      <th>2015-08-13 00:00:00-04:00</th>\n",
       "      <td>109.36</td>\n",
       "      <td>109.3651</td>\n",
       "      <td>109.110</td>\n",
       "      <td>109.15</td>\n",
       "      <td>1465173.0</td>\n",
       "      <td>208.73</td>\n",
       "      <td>209.55</td>\n",
       "      <td>208.01</td>\n",
       "      <td>208.63</td>\n",
       "      <td>77197796</td>\n",
       "    </tr>\n",
       "  </tbody>\n",
       "</table>\n",
       "</div>"
      ],
      "text/plain": [
       "                              AGG                                        \\\n",
       "                             open      high      low   close     volume   \n",
       "2015-08-07 00:00:00-04:00  109.14  109.2750  109.035  109.21  2041167.0   \n",
       "2015-08-10 00:00:00-04:00  109.15  109.1700  108.920  109.06  1149778.0   \n",
       "2015-08-11 00:00:00-04:00  109.42  109.5765  109.284  109.42  1420907.0   \n",
       "2015-08-12 00:00:00-04:00  109.55  109.7100  109.350  109.36  1468979.0   \n",
       "2015-08-13 00:00:00-04:00  109.36  109.3651  109.110  109.15  1465173.0   \n",
       "\n",
       "                              SPY                                     \n",
       "                             open    high     low   close     volume  \n",
       "2015-08-07 00:00:00-04:00  208.16  208.34  206.87  207.93   87669782  \n",
       "2015-08-10 00:00:00-04:00  209.28  210.67  209.28  210.58   66755890  \n",
       "2015-08-11 00:00:00-04:00  208.98  209.47  207.76  208.63   88424557  \n",
       "2015-08-12 00:00:00-04:00  207.11  209.14  205.36  208.89  136171450  \n",
       "2015-08-13 00:00:00-04:00  208.73  209.55  208.01  208.63   77197796  "
      ]
     },
     "execution_count": 17,
     "metadata": {},
     "output_type": "execute_result"
    }
   ],
   "source": [
    "# Get 5 years' worth of historical data for SPY and AGG\n",
    "df_stock_data = alpaca.get_barset(\n",
    "    tickers,\n",
    "    timeframe,\n",
    "    start = start_date,\n",
    "    end = end_date\n",
    ").df\n",
    "\n",
    "# Display sample data\n",
    "df_stock_data.head()"
   ]
  },
  {
   "cell_type": "code",
   "execution_count": 19,
   "metadata": {},
   "outputs": [
    {
     "data": {
      "text/plain": [
       "<MCForecastTools.MCSimulation at 0x21cbc70e2e0>"
      ]
     },
     "execution_count": 19,
     "metadata": {},
     "output_type": "execute_result"
    }
   ],
   "source": [
    "# Configuring a Monte Carlo simulation to forecast 30 years cumulative returns\n",
    "mc = MCSimulation(\n",
    "    portfolio_data = df_stock_data,\n",
    "    num_simulation = 100,\n",
    "    num_trading_days = 30 * 252\n",
    ")"
   ]
  },
  {
   "cell_type": "code",
   "execution_count": null,
   "metadata": {},
   "outputs": [],
   "source": [
    "# Printing the simulation input data\n",
    "df_stock_data.head()"
   ]
  },
  {
   "cell_type": "code",
   "execution_count": 20,
   "metadata": {},
   "outputs": [
    {
     "name": "stdout",
     "output_type": "stream",
     "text": [
      "Running Monte Carlo simulation number 0.\n",
      "Running Monte Carlo simulation number 10.\n",
      "Running Monte Carlo simulation number 20.\n",
      "Running Monte Carlo simulation number 30.\n",
      "Running Monte Carlo simulation number 40.\n",
      "Running Monte Carlo simulation number 50.\n",
      "Running Monte Carlo simulation number 60.\n",
      "Running Monte Carlo simulation number 70.\n",
      "Running Monte Carlo simulation number 80.\n",
      "Running Monte Carlo simulation number 90.\n"
     ]
    },
    {
     "data": {
      "text/html": [
       "<div>\n",
       "<style scoped>\n",
       "    .dataframe tbody tr th:only-of-type {\n",
       "        vertical-align: middle;\n",
       "    }\n",
       "\n",
       "    .dataframe tbody tr th {\n",
       "        vertical-align: top;\n",
       "    }\n",
       "\n",
       "    .dataframe thead th {\n",
       "        text-align: right;\n",
       "    }\n",
       "</style>\n",
       "<table border=\"1\" class=\"dataframe\">\n",
       "  <thead>\n",
       "    <tr style=\"text-align: right;\">\n",
       "      <th></th>\n",
       "      <th>0</th>\n",
       "      <th>1</th>\n",
       "      <th>2</th>\n",
       "      <th>3</th>\n",
       "      <th>4</th>\n",
       "      <th>5</th>\n",
       "      <th>6</th>\n",
       "      <th>7</th>\n",
       "      <th>8</th>\n",
       "      <th>9</th>\n",
       "      <th>...</th>\n",
       "      <th>90</th>\n",
       "      <th>91</th>\n",
       "      <th>92</th>\n",
       "      <th>93</th>\n",
       "      <th>94</th>\n",
       "      <th>95</th>\n",
       "      <th>96</th>\n",
       "      <th>97</th>\n",
       "      <th>98</th>\n",
       "      <th>99</th>\n",
       "    </tr>\n",
       "  </thead>\n",
       "  <tbody>\n",
       "    <tr>\n",
       "      <th>0</th>\n",
       "      <td>1.000000</td>\n",
       "      <td>1.000000</td>\n",
       "      <td>1.000000</td>\n",
       "      <td>1.000000</td>\n",
       "      <td>1.000000</td>\n",
       "      <td>1.000000</td>\n",
       "      <td>1.000000</td>\n",
       "      <td>1.000000</td>\n",
       "      <td>1.000000</td>\n",
       "      <td>1.000000</td>\n",
       "      <td>...</td>\n",
       "      <td>1.000000</td>\n",
       "      <td>1.000000</td>\n",
       "      <td>1.000000</td>\n",
       "      <td>1.000000</td>\n",
       "      <td>1.000000</td>\n",
       "      <td>1.000000</td>\n",
       "      <td>1.000000</td>\n",
       "      <td>1.000000</td>\n",
       "      <td>1.000000</td>\n",
       "      <td>1.000000</td>\n",
       "    </tr>\n",
       "    <tr>\n",
       "      <th>1</th>\n",
       "      <td>1.000847</td>\n",
       "      <td>0.995629</td>\n",
       "      <td>0.999395</td>\n",
       "      <td>0.995680</td>\n",
       "      <td>0.992008</td>\n",
       "      <td>0.995977</td>\n",
       "      <td>0.985768</td>\n",
       "      <td>0.986101</td>\n",
       "      <td>0.997245</td>\n",
       "      <td>1.010308</td>\n",
       "      <td>...</td>\n",
       "      <td>0.989071</td>\n",
       "      <td>0.993037</td>\n",
       "      <td>1.000995</td>\n",
       "      <td>1.001879</td>\n",
       "      <td>1.006807</td>\n",
       "      <td>0.996489</td>\n",
       "      <td>0.987510</td>\n",
       "      <td>0.991793</td>\n",
       "      <td>0.999492</td>\n",
       "      <td>0.996775</td>\n",
       "    </tr>\n",
       "    <tr>\n",
       "      <th>2</th>\n",
       "      <td>1.008070</td>\n",
       "      <td>0.992684</td>\n",
       "      <td>0.991143</td>\n",
       "      <td>1.004409</td>\n",
       "      <td>0.992741</td>\n",
       "      <td>0.997208</td>\n",
       "      <td>0.985063</td>\n",
       "      <td>0.996427</td>\n",
       "      <td>1.001440</td>\n",
       "      <td>1.014619</td>\n",
       "      <td>...</td>\n",
       "      <td>0.986107</td>\n",
       "      <td>0.998039</td>\n",
       "      <td>1.002707</td>\n",
       "      <td>0.992379</td>\n",
       "      <td>1.006146</td>\n",
       "      <td>0.987134</td>\n",
       "      <td>0.997916</td>\n",
       "      <td>0.996545</td>\n",
       "      <td>1.004347</td>\n",
       "      <td>0.996366</td>\n",
       "    </tr>\n",
       "    <tr>\n",
       "      <th>3</th>\n",
       "      <td>1.009847</td>\n",
       "      <td>0.986340</td>\n",
       "      <td>0.988906</td>\n",
       "      <td>1.009034</td>\n",
       "      <td>0.996921</td>\n",
       "      <td>0.995971</td>\n",
       "      <td>0.986423</td>\n",
       "      <td>0.996753</td>\n",
       "      <td>0.999255</td>\n",
       "      <td>1.029484</td>\n",
       "      <td>...</td>\n",
       "      <td>0.999524</td>\n",
       "      <td>0.990420</td>\n",
       "      <td>1.001506</td>\n",
       "      <td>1.004460</td>\n",
       "      <td>1.001637</td>\n",
       "      <td>0.995443</td>\n",
       "      <td>1.001986</td>\n",
       "      <td>0.997108</td>\n",
       "      <td>1.006071</td>\n",
       "      <td>0.991863</td>\n",
       "    </tr>\n",
       "    <tr>\n",
       "      <th>4</th>\n",
       "      <td>1.006216</td>\n",
       "      <td>0.984304</td>\n",
       "      <td>0.993495</td>\n",
       "      <td>1.007703</td>\n",
       "      <td>0.999992</td>\n",
       "      <td>0.999400</td>\n",
       "      <td>0.980504</td>\n",
       "      <td>1.007317</td>\n",
       "      <td>0.998678</td>\n",
       "      <td>1.023570</td>\n",
       "      <td>...</td>\n",
       "      <td>1.012359</td>\n",
       "      <td>0.995592</td>\n",
       "      <td>1.005689</td>\n",
       "      <td>1.004344</td>\n",
       "      <td>1.008543</td>\n",
       "      <td>0.989616</td>\n",
       "      <td>0.995697</td>\n",
       "      <td>0.996650</td>\n",
       "      <td>0.998248</td>\n",
       "      <td>0.979138</td>\n",
       "    </tr>\n",
       "    <tr>\n",
       "      <th>...</th>\n",
       "      <td>...</td>\n",
       "      <td>...</td>\n",
       "      <td>...</td>\n",
       "      <td>...</td>\n",
       "      <td>...</td>\n",
       "      <td>...</td>\n",
       "      <td>...</td>\n",
       "      <td>...</td>\n",
       "      <td>...</td>\n",
       "      <td>...</td>\n",
       "      <td>...</td>\n",
       "      <td>...</td>\n",
       "      <td>...</td>\n",
       "      <td>...</td>\n",
       "      <td>...</td>\n",
       "      <td>...</td>\n",
       "      <td>...</td>\n",
       "      <td>...</td>\n",
       "      <td>...</td>\n",
       "      <td>...</td>\n",
       "      <td>...</td>\n",
       "    </tr>\n",
       "    <tr>\n",
       "      <th>7556</th>\n",
       "      <td>8.182610</td>\n",
       "      <td>1.569518</td>\n",
       "      <td>13.862289</td>\n",
       "      <td>6.490848</td>\n",
       "      <td>6.635231</td>\n",
       "      <td>3.557500</td>\n",
       "      <td>6.740531</td>\n",
       "      <td>4.150355</td>\n",
       "      <td>10.516413</td>\n",
       "      <td>6.883999</td>\n",
       "      <td>...</td>\n",
       "      <td>10.681571</td>\n",
       "      <td>9.913747</td>\n",
       "      <td>5.782045</td>\n",
       "      <td>5.889025</td>\n",
       "      <td>12.419617</td>\n",
       "      <td>3.129114</td>\n",
       "      <td>13.408967</td>\n",
       "      <td>7.991625</td>\n",
       "      <td>1.703014</td>\n",
       "      <td>11.889607</td>\n",
       "    </tr>\n",
       "    <tr>\n",
       "      <th>7557</th>\n",
       "      <td>8.174751</td>\n",
       "      <td>1.567616</td>\n",
       "      <td>13.975028</td>\n",
       "      <td>6.520746</td>\n",
       "      <td>6.639655</td>\n",
       "      <td>3.561822</td>\n",
       "      <td>6.747916</td>\n",
       "      <td>4.130343</td>\n",
       "      <td>10.608000</td>\n",
       "      <td>6.966424</td>\n",
       "      <td>...</td>\n",
       "      <td>10.795284</td>\n",
       "      <td>9.921176</td>\n",
       "      <td>5.792296</td>\n",
       "      <td>5.844542</td>\n",
       "      <td>12.577517</td>\n",
       "      <td>3.074258</td>\n",
       "      <td>13.426550</td>\n",
       "      <td>7.986579</td>\n",
       "      <td>1.699142</td>\n",
       "      <td>11.884748</td>\n",
       "    </tr>\n",
       "    <tr>\n",
       "      <th>7558</th>\n",
       "      <td>8.159074</td>\n",
       "      <td>1.569803</td>\n",
       "      <td>13.698556</td>\n",
       "      <td>6.461305</td>\n",
       "      <td>6.632081</td>\n",
       "      <td>3.545196</td>\n",
       "      <td>6.738457</td>\n",
       "      <td>4.202305</td>\n",
       "      <td>10.603195</td>\n",
       "      <td>6.926577</td>\n",
       "      <td>...</td>\n",
       "      <td>10.742576</td>\n",
       "      <td>9.907830</td>\n",
       "      <td>5.789834</td>\n",
       "      <td>5.859513</td>\n",
       "      <td>12.692062</td>\n",
       "      <td>3.067285</td>\n",
       "      <td>13.415165</td>\n",
       "      <td>7.944692</td>\n",
       "      <td>1.701622</td>\n",
       "      <td>11.828349</td>\n",
       "    </tr>\n",
       "    <tr>\n",
       "      <th>7559</th>\n",
       "      <td>8.067565</td>\n",
       "      <td>1.573997</td>\n",
       "      <td>13.743727</td>\n",
       "      <td>6.470829</td>\n",
       "      <td>6.574258</td>\n",
       "      <td>3.534275</td>\n",
       "      <td>6.699700</td>\n",
       "      <td>4.230005</td>\n",
       "      <td>10.613409</td>\n",
       "      <td>6.961938</td>\n",
       "      <td>...</td>\n",
       "      <td>10.828771</td>\n",
       "      <td>9.936922</td>\n",
       "      <td>5.751444</td>\n",
       "      <td>5.882781</td>\n",
       "      <td>12.641097</td>\n",
       "      <td>3.056439</td>\n",
       "      <td>13.348715</td>\n",
       "      <td>7.937765</td>\n",
       "      <td>1.696356</td>\n",
       "      <td>11.898620</td>\n",
       "    </tr>\n",
       "    <tr>\n",
       "      <th>7560</th>\n",
       "      <td>8.104928</td>\n",
       "      <td>1.589413</td>\n",
       "      <td>13.724799</td>\n",
       "      <td>6.389607</td>\n",
       "      <td>6.587354</td>\n",
       "      <td>3.561281</td>\n",
       "      <td>6.725957</td>\n",
       "      <td>4.255715</td>\n",
       "      <td>10.561843</td>\n",
       "      <td>6.954587</td>\n",
       "      <td>...</td>\n",
       "      <td>10.800331</td>\n",
       "      <td>9.957580</td>\n",
       "      <td>5.731480</td>\n",
       "      <td>5.859356</td>\n",
       "      <td>12.731962</td>\n",
       "      <td>3.088287</td>\n",
       "      <td>13.324768</td>\n",
       "      <td>7.945514</td>\n",
       "      <td>1.686246</td>\n",
       "      <td>11.957077</td>\n",
       "    </tr>\n",
       "  </tbody>\n",
       "</table>\n",
       "<p>7561 rows × 100 columns</p>\n",
       "</div>"
      ],
      "text/plain": [
       "            0         1          2         3         4         5         6   \\\n",
       "0     1.000000  1.000000   1.000000  1.000000  1.000000  1.000000  1.000000   \n",
       "1     1.000847  0.995629   0.999395  0.995680  0.992008  0.995977  0.985768   \n",
       "2     1.008070  0.992684   0.991143  1.004409  0.992741  0.997208  0.985063   \n",
       "3     1.009847  0.986340   0.988906  1.009034  0.996921  0.995971  0.986423   \n",
       "4     1.006216  0.984304   0.993495  1.007703  0.999992  0.999400  0.980504   \n",
       "...        ...       ...        ...       ...       ...       ...       ...   \n",
       "7556  8.182610  1.569518  13.862289  6.490848  6.635231  3.557500  6.740531   \n",
       "7557  8.174751  1.567616  13.975028  6.520746  6.639655  3.561822  6.747916   \n",
       "7558  8.159074  1.569803  13.698556  6.461305  6.632081  3.545196  6.738457   \n",
       "7559  8.067565  1.573997  13.743727  6.470829  6.574258  3.534275  6.699700   \n",
       "7560  8.104928  1.589413  13.724799  6.389607  6.587354  3.561281  6.725957   \n",
       "\n",
       "            7          8         9   ...         90        91        92  \\\n",
       "0     1.000000   1.000000  1.000000  ...   1.000000  1.000000  1.000000   \n",
       "1     0.986101   0.997245  1.010308  ...   0.989071  0.993037  1.000995   \n",
       "2     0.996427   1.001440  1.014619  ...   0.986107  0.998039  1.002707   \n",
       "3     0.996753   0.999255  1.029484  ...   0.999524  0.990420  1.001506   \n",
       "4     1.007317   0.998678  1.023570  ...   1.012359  0.995592  1.005689   \n",
       "...        ...        ...       ...  ...        ...       ...       ...   \n",
       "7556  4.150355  10.516413  6.883999  ...  10.681571  9.913747  5.782045   \n",
       "7557  4.130343  10.608000  6.966424  ...  10.795284  9.921176  5.792296   \n",
       "7558  4.202305  10.603195  6.926577  ...  10.742576  9.907830  5.789834   \n",
       "7559  4.230005  10.613409  6.961938  ...  10.828771  9.936922  5.751444   \n",
       "7560  4.255715  10.561843  6.954587  ...  10.800331  9.957580  5.731480   \n",
       "\n",
       "            93         94        95         96        97        98         99  \n",
       "0     1.000000   1.000000  1.000000   1.000000  1.000000  1.000000   1.000000  \n",
       "1     1.001879   1.006807  0.996489   0.987510  0.991793  0.999492   0.996775  \n",
       "2     0.992379   1.006146  0.987134   0.997916  0.996545  1.004347   0.996366  \n",
       "3     1.004460   1.001637  0.995443   1.001986  0.997108  1.006071   0.991863  \n",
       "4     1.004344   1.008543  0.989616   0.995697  0.996650  0.998248   0.979138  \n",
       "...        ...        ...       ...        ...       ...       ...        ...  \n",
       "7556  5.889025  12.419617  3.129114  13.408967  7.991625  1.703014  11.889607  \n",
       "7557  5.844542  12.577517  3.074258  13.426550  7.986579  1.699142  11.884748  \n",
       "7558  5.859513  12.692062  3.067285  13.415165  7.944692  1.701622  11.828349  \n",
       "7559  5.882781  12.641097  3.056439  13.348715  7.937765  1.696356  11.898620  \n",
       "7560  5.859356  12.731962  3.088287  13.324768  7.945514  1.686246  11.957077  \n",
       "\n",
       "[7561 rows x 100 columns]"
      ]
     },
     "execution_count": 20,
     "metadata": {},
     "output_type": "execute_result"
    }
   ],
   "source": [
    "# Running a Monte Carlo simulation to forecast 30 years cumulative returns\n",
    "mc.calc_cumulative_return()"
   ]
  },
  {
   "cell_type": "code",
   "execution_count": 25,
   "metadata": {},
   "outputs": [
    {
     "data": {
      "text/plain": [
       "<matplotlib.axes._subplots.AxesSubplot at 0x21cbc87f850>"
      ]
     },
     "execution_count": 25,
     "metadata": {},
     "output_type": "execute_result"
    },
    {
     "data": {
      "image/png": "[encoded data removed]",
      "text/plain": [
       "<Figure size 432x288 with 1 Axes>"
      ]
     },
     "metadata": {
      "needs_background": "light"
     },
     "output_type": "display_data"
    }
   ],
   "source": [
    "# Plot simulation outcomes\n",
    "mc.plot_simulation()"
   ]
  },
  {
   "cell_type": "code",
   "execution_count": 29,
   "metadata": {},
   "outputs": [
    {
     "data": {
      "text/plain": [
       "<matplotlib.axes._subplots.AxesSubplot at 0x21cbe49fac0>"
      ]
     },
     "execution_count": 29,
     "metadata": {},
     "output_type": "execute_result"
    },
    {
     "data": {
      "image/png": "[encoded data removed]",
      "text/plain": [
       "<Figure size 432x288 with 1 Axes>"
      ]
     },
     "metadata": {
      "needs_background": "light"
     },
     "output_type": "display_data"
    }
   ],
   "source": [
    "# Plot probability distribution and confidence intervals\n",
    "mc.plot_distribution()"
   ]
  },
  {
   "cell_type": "markdown",
   "metadata": {},
   "source": [
    "### Retirement Analysis"
   ]
  },
  {
   "cell_type": "code",
   "execution_count": 30,
   "metadata": {},
   "outputs": [
    {
     "name": "stdout",
     "output_type": "stream",
     "text": [
      "count           100.000000\n",
      "mean              6.869594\n",
      "std               3.954005\n",
      "min               1.578385\n",
      "25%               3.739259\n",
      "50%               5.882048\n",
      "75%               8.913065\n",
      "max              18.810405\n",
      "95% CI Lower      1.769607\n",
      "95% CI Upper     16.636484\n",
      "Name: 7560, dtype: float64\n"
     ]
    }
   ],
   "source": [
    "# Fetch summary statistics from the Monte Carlo simulation results\n",
    "summary_statistics = mc.summarize_cumulative_return()\n",
    "\n",
    "# Print summary statistics\n",
    "print(summary_statistics)"
   ]
  },
  {
   "cell_type": "markdown",
   "metadata": {},
   "source": [
    "### Calculate the expected portfolio return at the 95% lower and upper confidence intervals based on a `$20,000` initial investment."
   ]
  },
  {
   "cell_type": "code",
   "execution_count": 31,
   "metadata": {},
   "outputs": [
    {
     "name": "stdout",
     "output_type": "stream",
     "text": [
      "There is a 95% chance that an initial investment of $20000 in the portfolio over the next 30 years will end within in the range of $35392.13210327311 and $332729.6802734097\n"
     ]
    }
   ],
   "source": [
    "# Set initial investment\n",
    "initial_investment = 20000\n",
    "\n",
    "# Use the lower and upper `95%` confidence intervals to calculate the range of the possible outcomes of our $20,000\n",
    "ci_lower = summary_statistics[8] * initial_investment\n",
    "ci_upper = summary_statistics[9] * initial_investment\n",
    "\n",
    "# Print results\n",
    "print(f\"There is a 95% chance that an initial investment of ${initial_investment} in the portfolio\"\n",
    "      f\" over the next 30 years will end within in the range of\"\n",
    "      f\" ${ci_lower} and ${ci_upper}\")"
   ]
  },
  {
   "cell_type": "markdown",
   "metadata": {},
   "source": [
    "### Calculate the expected portfolio return at the `95%` lower and upper confidence intervals based on a `50%` increase in the initial investment."
   ]
  },
  {
   "cell_type": "code",
   "execution_count": 32,
   "metadata": {},
   "outputs": [
    {
     "name": "stdout",
     "output_type": "stream",
     "text": [
      "There is a 95% chance that an initial investment of $30000.0 in the portfolio over the next 30 years will end within in the range of $53088.19815490965 and $499094.5204101146\n"
     ]
    }
   ],
   "source": [
    "# Set initial investment\n",
    "initial_investment = 20000 * 1.5\n",
    "\n",
    "# Use the lower and upper `95%` confidence intervals to calculate the range of the possible outcomes of our $30,000\n",
    "ci_lower = summary_statistics[8] * initial_investment\n",
    "ci_upper = summary_statistics[9] * initial_investment\n",
    "\n",
    "# Print results\n",
    "print(f\"There is a 95% chance that an initial investment of ${initial_investment} in the portfolio\"\n",
    "      f\" over the next 30 years will end within in the range of\"\n",
    "      f\" ${ci_lower} and ${ci_upper}\")"
   ]
  },
  {
   "cell_type": "markdown",
   "metadata": {},
   "source": [
    "## Optional Challenge - Early Retirement\n",
    "\n",
    "\n",
    "### Five Years Retirement Option"
   ]
  },
  {
   "cell_type": "code",
   "execution_count": 34,
   "metadata": {},
   "outputs": [],
   "source": [
    "# Configuring a Monte Carlo simulation to forecast 5 years cumulative returns\n",
    "mc_5_years = MCSimulation(\n",
    "    portfolio_data = df_stock_data,\n",
    "    num_simulation = 100,\n",
    "    num_trading_days = 5 * 252\n",
    ")"
   ]
  },
  {
   "cell_type": "code",
   "execution_count": 35,
   "metadata": {},
   "outputs": [
    {
     "name": "stdout",
     "output_type": "stream",
     "text": [
      "Running Monte Carlo simulation number 0.\n",
      "Running Monte Carlo simulation number 10.\n",
      "Running Monte Carlo simulation number 20.\n",
      "Running Monte Carlo simulation number 30.\n",
      "Running Monte Carlo simulation number 40.\n",
      "Running Monte Carlo simulation number 50.\n",
      "Running Monte Carlo simulation number 60.\n",
      "Running Monte Carlo simulation number 70.\n",
      "Running Monte Carlo simulation number 80.\n",
      "Running Monte Carlo simulation number 90.\n"
     ]
    },
    {
     "data": {
      "text/html": [
       "<div>\n",
       "<style scoped>\n",
       "    .dataframe tbody tr th:only-of-type {\n",
       "        vertical-align: middle;\n",
       "    }\n",
       "\n",
       "    .dataframe tbody tr th {\n",
       "        vertical-align: top;\n",
       "    }\n",
       "\n",
       "    .dataframe thead th {\n",
       "        text-align: right;\n",
       "    }\n",
       "</style>\n",
       "<table border=\"1\" class=\"dataframe\">\n",
       "  <thead>\n",
       "    <tr style=\"text-align: right;\">\n",
       "      <th></th>\n",
       "      <th>0</th>\n",
       "      <th>1</th>\n",
       "      <th>2</th>\n",
       "      <th>3</th>\n",
       "      <th>4</th>\n",
       "      <th>5</th>\n",
       "      <th>6</th>\n",
       "      <th>7</th>\n",
       "      <th>8</th>\n",
       "      <th>9</th>\n",
       "      <th>...</th>\n",
       "      <th>90</th>\n",
       "      <th>91</th>\n",
       "      <th>92</th>\n",
       "      <th>93</th>\n",
       "      <th>94</th>\n",
       "      <th>95</th>\n",
       "      <th>96</th>\n",
       "      <th>97</th>\n",
       "      <th>98</th>\n",
       "      <th>99</th>\n",
       "    </tr>\n",
       "  </thead>\n",
       "  <tbody>\n",
       "    <tr>\n",
       "      <th>0</th>\n",
       "      <td>1.000000</td>\n",
       "      <td>1.000000</td>\n",
       "      <td>1.000000</td>\n",
       "      <td>1.000000</td>\n",
       "      <td>1.000000</td>\n",
       "      <td>1.000000</td>\n",
       "      <td>1.000000</td>\n",
       "      <td>1.000000</td>\n",
       "      <td>1.000000</td>\n",
       "      <td>1.000000</td>\n",
       "      <td>...</td>\n",
       "      <td>1.000000</td>\n",
       "      <td>1.000000</td>\n",
       "      <td>1.000000</td>\n",
       "      <td>1.000000</td>\n",
       "      <td>1.000000</td>\n",
       "      <td>1.000000</td>\n",
       "      <td>1.000000</td>\n",
       "      <td>1.000000</td>\n",
       "      <td>1.000000</td>\n",
       "      <td>1.000000</td>\n",
       "    </tr>\n",
       "    <tr>\n",
       "      <th>1</th>\n",
       "      <td>1.015587</td>\n",
       "      <td>0.997687</td>\n",
       "      <td>0.995107</td>\n",
       "      <td>1.002063</td>\n",
       "      <td>1.007349</td>\n",
       "      <td>1.005441</td>\n",
       "      <td>0.988789</td>\n",
       "      <td>0.999586</td>\n",
       "      <td>0.986941</td>\n",
       "      <td>0.999872</td>\n",
       "      <td>...</td>\n",
       "      <td>1.004394</td>\n",
       "      <td>1.003835</td>\n",
       "      <td>0.999137</td>\n",
       "      <td>1.008971</td>\n",
       "      <td>0.999489</td>\n",
       "      <td>1.004685</td>\n",
       "      <td>0.999220</td>\n",
       "      <td>0.991923</td>\n",
       "      <td>0.999575</td>\n",
       "      <td>0.994245</td>\n",
       "    </tr>\n",
       "    <tr>\n",
       "      <th>2</th>\n",
       "      <td>1.027169</td>\n",
       "      <td>0.995155</td>\n",
       "      <td>0.988127</td>\n",
       "      <td>1.003105</td>\n",
       "      <td>1.004340</td>\n",
       "      <td>1.004167</td>\n",
       "      <td>0.996096</td>\n",
       "      <td>1.011759</td>\n",
       "      <td>0.991197</td>\n",
       "      <td>1.000996</td>\n",
       "      <td>...</td>\n",
       "      <td>1.009036</td>\n",
       "      <td>1.006523</td>\n",
       "      <td>0.999011</td>\n",
       "      <td>1.014565</td>\n",
       "      <td>1.005264</td>\n",
       "      <td>1.008413</td>\n",
       "      <td>0.996010</td>\n",
       "      <td>0.994713</td>\n",
       "      <td>1.002232</td>\n",
       "      <td>0.991690</td>\n",
       "    </tr>\n",
       "    <tr>\n",
       "      <th>3</th>\n",
       "      <td>1.023404</td>\n",
       "      <td>0.999881</td>\n",
       "      <td>0.995435</td>\n",
       "      <td>1.003003</td>\n",
       "      <td>0.993334</td>\n",
       "      <td>1.010595</td>\n",
       "      <td>0.995499</td>\n",
       "      <td>1.017635</td>\n",
       "      <td>0.986193</td>\n",
       "      <td>1.008293</td>\n",
       "      <td>...</td>\n",
       "      <td>1.010433</td>\n",
       "      <td>1.000741</td>\n",
       "      <td>0.990504</td>\n",
       "      <td>1.004052</td>\n",
       "      <td>0.996651</td>\n",
       "      <td>1.010607</td>\n",
       "      <td>0.993478</td>\n",
       "      <td>0.986987</td>\n",
       "      <td>1.009369</td>\n",
       "      <td>0.994109</td>\n",
       "    </tr>\n",
       "    <tr>\n",
       "      <th>4</th>\n",
       "      <td>1.015647</td>\n",
       "      <td>1.009620</td>\n",
       "      <td>0.998569</td>\n",
       "      <td>1.006055</td>\n",
       "      <td>0.991133</td>\n",
       "      <td>1.006477</td>\n",
       "      <td>1.001504</td>\n",
       "      <td>1.022458</td>\n",
       "      <td>0.973658</td>\n",
       "      <td>1.009781</td>\n",
       "      <td>...</td>\n",
       "      <td>1.012190</td>\n",
       "      <td>1.016299</td>\n",
       "      <td>0.987999</td>\n",
       "      <td>1.012866</td>\n",
       "      <td>0.998688</td>\n",
       "      <td>1.007054</td>\n",
       "      <td>0.984965</td>\n",
       "      <td>0.982749</td>\n",
       "      <td>1.001661</td>\n",
       "      <td>1.004893</td>\n",
       "    </tr>\n",
       "    <tr>\n",
       "      <th>...</th>\n",
       "      <td>...</td>\n",
       "      <td>...</td>\n",
       "      <td>...</td>\n",
       "      <td>...</td>\n",
       "      <td>...</td>\n",
       "      <td>...</td>\n",
       "      <td>...</td>\n",
       "      <td>...</td>\n",
       "      <td>...</td>\n",
       "      <td>...</td>\n",
       "      <td>...</td>\n",
       "      <td>...</td>\n",
       "      <td>...</td>\n",
       "      <td>...</td>\n",
       "      <td>...</td>\n",
       "      <td>...</td>\n",
       "      <td>...</td>\n",
       "      <td>...</td>\n",
       "      <td>...</td>\n",
       "      <td>...</td>\n",
       "      <td>...</td>\n",
       "    </tr>\n",
       "    <tr>\n",
       "      <th>1256</th>\n",
       "      <td>1.141841</td>\n",
       "      <td>1.137727</td>\n",
       "      <td>1.423413</td>\n",
       "      <td>1.838299</td>\n",
       "      <td>1.452390</td>\n",
       "      <td>1.178255</td>\n",
       "      <td>0.942864</td>\n",
       "      <td>1.280903</td>\n",
       "      <td>1.389257</td>\n",
       "      <td>1.451100</td>\n",
       "      <td>...</td>\n",
       "      <td>1.332907</td>\n",
       "      <td>1.414397</td>\n",
       "      <td>1.086862</td>\n",
       "      <td>1.297459</td>\n",
       "      <td>1.698480</td>\n",
       "      <td>1.464752</td>\n",
       "      <td>1.613286</td>\n",
       "      <td>1.321572</td>\n",
       "      <td>1.397577</td>\n",
       "      <td>1.058022</td>\n",
       "    </tr>\n",
       "    <tr>\n",
       "      <th>1257</th>\n",
       "      <td>1.143481</td>\n",
       "      <td>1.141270</td>\n",
       "      <td>1.405976</td>\n",
       "      <td>1.826976</td>\n",
       "      <td>1.452051</td>\n",
       "      <td>1.184760</td>\n",
       "      <td>0.953605</td>\n",
       "      <td>1.274815</td>\n",
       "      <td>1.384151</td>\n",
       "      <td>1.451050</td>\n",
       "      <td>...</td>\n",
       "      <td>1.333809</td>\n",
       "      <td>1.408223</td>\n",
       "      <td>1.095217</td>\n",
       "      <td>1.298153</td>\n",
       "      <td>1.697773</td>\n",
       "      <td>1.463396</td>\n",
       "      <td>1.621937</td>\n",
       "      <td>1.318099</td>\n",
       "      <td>1.404457</td>\n",
       "      <td>1.059009</td>\n",
       "    </tr>\n",
       "    <tr>\n",
       "      <th>1258</th>\n",
       "      <td>1.154812</td>\n",
       "      <td>1.144533</td>\n",
       "      <td>1.398549</td>\n",
       "      <td>1.817164</td>\n",
       "      <td>1.453047</td>\n",
       "      <td>1.189671</td>\n",
       "      <td>0.957360</td>\n",
       "      <td>1.276819</td>\n",
       "      <td>1.385578</td>\n",
       "      <td>1.454083</td>\n",
       "      <td>...</td>\n",
       "      <td>1.343384</td>\n",
       "      <td>1.405166</td>\n",
       "      <td>1.101800</td>\n",
       "      <td>1.295695</td>\n",
       "      <td>1.690359</td>\n",
       "      <td>1.457753</td>\n",
       "      <td>1.614930</td>\n",
       "      <td>1.311472</td>\n",
       "      <td>1.411218</td>\n",
       "      <td>1.054772</td>\n",
       "    </tr>\n",
       "    <tr>\n",
       "      <th>1259</th>\n",
       "      <td>1.159003</td>\n",
       "      <td>1.152770</td>\n",
       "      <td>1.399903</td>\n",
       "      <td>1.823850</td>\n",
       "      <td>1.463124</td>\n",
       "      <td>1.186414</td>\n",
       "      <td>0.954984</td>\n",
       "      <td>1.279636</td>\n",
       "      <td>1.383966</td>\n",
       "      <td>1.446585</td>\n",
       "      <td>...</td>\n",
       "      <td>1.352278</td>\n",
       "      <td>1.394071</td>\n",
       "      <td>1.104749</td>\n",
       "      <td>1.295886</td>\n",
       "      <td>1.708836</td>\n",
       "      <td>1.457529</td>\n",
       "      <td>1.610709</td>\n",
       "      <td>1.314642</td>\n",
       "      <td>1.395640</td>\n",
       "      <td>1.049713</td>\n",
       "    </tr>\n",
       "    <tr>\n",
       "      <th>1260</th>\n",
       "      <td>1.162510</td>\n",
       "      <td>1.166703</td>\n",
       "      <td>1.398633</td>\n",
       "      <td>1.815160</td>\n",
       "      <td>1.475688</td>\n",
       "      <td>1.179169</td>\n",
       "      <td>0.950647</td>\n",
       "      <td>1.294177</td>\n",
       "      <td>1.385713</td>\n",
       "      <td>1.457639</td>\n",
       "      <td>...</td>\n",
       "      <td>1.346943</td>\n",
       "      <td>1.407464</td>\n",
       "      <td>1.111579</td>\n",
       "      <td>1.282845</td>\n",
       "      <td>1.728135</td>\n",
       "      <td>1.463028</td>\n",
       "      <td>1.604059</td>\n",
       "      <td>1.313661</td>\n",
       "      <td>1.399573</td>\n",
       "      <td>1.038848</td>\n",
       "    </tr>\n",
       "  </tbody>\n",
       "</table>\n",
       "<p>1261 rows × 100 columns</p>\n",
       "</div>"
      ],
      "text/plain": [
       "            0         1         2         3         4         5         6   \\\n",
       "0     1.000000  1.000000  1.000000  1.000000  1.000000  1.000000  1.000000   \n",
       "1     1.015587  0.997687  0.995107  1.002063  1.007349  1.005441  0.988789   \n",
       "2     1.027169  0.995155  0.988127  1.003105  1.004340  1.004167  0.996096   \n",
       "3     1.023404  0.999881  0.995435  1.003003  0.993334  1.010595  0.995499   \n",
       "4     1.015647  1.009620  0.998569  1.006055  0.991133  1.006477  1.001504   \n",
       "...        ...       ...       ...       ...       ...       ...       ...   \n",
       "1256  1.141841  1.137727  1.423413  1.838299  1.452390  1.178255  0.942864   \n",
       "1257  1.143481  1.141270  1.405976  1.826976  1.452051  1.184760  0.953605   \n",
       "1258  1.154812  1.144533  1.398549  1.817164  1.453047  1.189671  0.957360   \n",
       "1259  1.159003  1.152770  1.399903  1.823850  1.463124  1.186414  0.954984   \n",
       "1260  1.162510  1.166703  1.398633  1.815160  1.475688  1.179169  0.950647   \n",
       "\n",
       "            7         8         9   ...        90        91        92  \\\n",
       "0     1.000000  1.000000  1.000000  ...  1.000000  1.000000  1.000000   \n",
       "1     0.999586  0.986941  0.999872  ...  1.004394  1.003835  0.999137   \n",
       "2     1.011759  0.991197  1.000996  ...  1.009036  1.006523  0.999011   \n",
       "3     1.017635  0.986193  1.008293  ...  1.010433  1.000741  0.990504   \n",
       "4     1.022458  0.973658  1.009781  ...  1.012190  1.016299  0.987999   \n",
       "...        ...       ...       ...  ...       ...       ...       ...   \n",
       "1256  1.280903  1.389257  1.451100  ...  1.332907  1.414397  1.086862   \n",
       "1257  1.274815  1.384151  1.451050  ...  1.333809  1.408223  1.095217   \n",
       "1258  1.276819  1.385578  1.454083  ...  1.343384  1.405166  1.101800   \n",
       "1259  1.279636  1.383966  1.446585  ...  1.352278  1.394071  1.104749   \n",
       "1260  1.294177  1.385713  1.457639  ...  1.346943  1.407464  1.111579   \n",
       "\n",
       "            93        94        95        96        97        98        99  \n",
       "0     1.000000  1.000000  1.000000  1.000000  1.000000  1.000000  1.000000  \n",
       "1     1.008971  0.999489  1.004685  0.999220  0.991923  0.999575  0.994245  \n",
       "2     1.014565  1.005264  1.008413  0.996010  0.994713  1.002232  0.991690  \n",
       "3     1.004052  0.996651  1.010607  0.993478  0.986987  1.009369  0.994109  \n",
       "4     1.012866  0.998688  1.007054  0.984965  0.982749  1.001661  1.004893  \n",
       "...        ...       ...       ...       ...       ...       ...       ...  \n",
       "1256  1.297459  1.698480  1.464752  1.613286  1.321572  1.397577  1.058022  \n",
       "1257  1.298153  1.697773  1.463396  1.621937  1.318099  1.404457  1.059009  \n",
       "1258  1.295695  1.690359  1.457753  1.614930  1.311472  1.411218  1.054772  \n",
       "1259  1.295886  1.708836  1.457529  1.610709  1.314642  1.395640  1.049713  \n",
       "1260  1.282845  1.728135  1.463028  1.604059  1.313661  1.399573  1.038848  \n",
       "\n",
       "[1261 rows x 100 columns]"
      ]
     },
     "execution_count": 35,
     "metadata": {},
     "output_type": "execute_result"
    }
   ],
   "source": [
    "# Running a Monte Carlo simulation to forecast 5 years cumulative returns\n",
    "mc_5_years.calc_cumulative_return()"
   ]
  },
  {
   "cell_type": "code",
   "execution_count": 36,
   "metadata": {},
   "outputs": [
    {
     "data": {
      "text/plain": [
       "<matplotlib.axes._subplots.AxesSubplot at 0x21cbcc20790>"
      ]
     },
     "execution_count": 36,
     "metadata": {},
     "output_type": "execute_result"
    },
    {
     "data": {
      "image/png": "[encoded data removed]",
      "text/plain": [
       "<Figure size 432x288 with 1 Axes>"
      ]
     },
     "metadata": {
      "needs_background": "light"
     },
     "output_type": "display_data"
    }
   ],
   "source": [
    "# Plot simulation outcomes\n",
    "mc_5_years.plot_simulation()"
   ]
  },
  {
   "cell_type": "code",
   "execution_count": 37,
   "metadata": {},
   "outputs": [
    {
     "data": {
      "text/plain": [
       "<matplotlib.axes._subplots.AxesSubplot at 0x21cbcb85d90>"
      ]
     },
     "execution_count": 37,
     "metadata": {},
     "output_type": "execute_result"
    },
    {
     "data": {
      "image/png": "[encoded data removed]",
      "text/plain": [
       "<Figure size 432x288 with 1 Axes>"
      ]
     },
     "metadata": {
      "needs_background": "light"
     },
     "output_type": "display_data"
    }
   ],
   "source": [
    "# Plot probability distribution and confidence intervals\n",
    "mc_5_years.plot_distribution()"
   ]
  },
  {
   "cell_type": "code",
   "execution_count": 39,
   "metadata": {},
   "outputs": [
    {
     "name": "stdout",
     "output_type": "stream",
     "text": [
      "count           100.000000\n",
      "mean              1.407813\n",
      "std               0.332766\n",
      "min               0.868656\n",
      "25%               1.195594\n",
      "50%               1.318174\n",
      "75%               1.575333\n",
      "max               2.504538\n",
      "95% CI Lower      0.926680\n",
      "95% CI Upper      2.251083\n",
      "Name: 1260, dtype: float64\n"
     ]
    }
   ],
   "source": [
    "# Fetch summary statistics from the Monte Carlo simulation results\n",
    "summary_statistics_5_years = mc_5_years.summarize_cumulative_return()\n",
    "\n",
    "# Print summary statistics\n",
    "print(summary_statistics_5_years)"
   ]
  },
  {
   "cell_type": "code",
   "execution_count": 40,
   "metadata": {},
   "outputs": [
    {
     "name": "stdout",
     "output_type": "stream",
     "text": [
      "There is a 95% chance that an initial investment of $20000 in the portfolio over the next 5 years will end within in the range of $18533.60998523297 and $45021.66450181908\n"
     ]
    }
   ],
   "source": [
    "# Set initial investment\n",
    "initial_investment = 20000\n",
    "\n",
    "# Use the lower and upper `95%` confidence intervals to calculate the range of the possible outcomes of our $60,000\n",
    "ci_lower_five = summary_statistics_5_years[8] * initial_investment\n",
    "ci_upper_five = summary_statistics_5_years[9] * initial_investment\n",
    "\n",
    "# Print results\n",
    "print(f\"There is a 95% chance that an initial investment of ${initial_investment} in the portfolio\"\n",
    "      f\" over the next 5 years will end within in the range of\"\n",
    "      f\" ${ci_lower_five} and ${ci_upper_five}\")"
   ]
  },
  {
   "cell_type": "markdown",
   "metadata": {},
   "source": [
    "### Ten Years Retirement Option"
   ]
  },
  {
   "cell_type": "code",
   "execution_count": 41,
   "metadata": {},
   "outputs": [],
   "source": [
    "# Configuring a Monte Carlo simulation to forecast 10 years cumulative returns\n",
    "mc_10_years = MCSimulation(\n",
    "    portfolio_data = df_stock_data,\n",
    "    num_simulation = 100,\n",
    "    num_trading_days = 10 * 252\n",
    ")"
   ]
  },
  {
   "cell_type": "code",
   "execution_count": 42,
   "metadata": {},
   "outputs": [
    {
     "name": "stdout",
     "output_type": "stream",
     "text": [
      "Running Monte Carlo simulation number 0.\n",
      "Running Monte Carlo simulation number 10.\n",
      "Running Monte Carlo simulation number 20.\n",
      "Running Monte Carlo simulation number 30.\n",
      "Running Monte Carlo simulation number 40.\n",
      "Running Monte Carlo simulation number 50.\n",
      "Running Monte Carlo simulation number 60.\n",
      "Running Monte Carlo simulation number 70.\n",
      "Running Monte Carlo simulation number 80.\n",
      "Running Monte Carlo simulation number 90.\n"
     ]
    },
    {
     "data": {
      "text/html": [
       "<div>\n",
       "<style scoped>\n",
       "    .dataframe tbody tr th:only-of-type {\n",
       "        vertical-align: middle;\n",
       "    }\n",
       "\n",
       "    .dataframe tbody tr th {\n",
       "        vertical-align: top;\n",
       "    }\n",
       "\n",
       "    .dataframe thead th {\n",
       "        text-align: right;\n",
       "    }\n",
       "</style>\n",
       "<table border=\"1\" class=\"dataframe\">\n",
       "  <thead>\n",
       "    <tr style=\"text-align: right;\">\n",
       "      <th></th>\n",
       "      <th>0</th>\n",
       "      <th>1</th>\n",
       "      <th>2</th>\n",
       "      <th>3</th>\n",
       "      <th>4</th>\n",
       "      <th>5</th>\n",
       "      <th>6</th>\n",
       "      <th>7</th>\n",
       "      <th>8</th>\n",
       "      <th>9</th>\n",
       "      <th>...</th>\n",
       "      <th>90</th>\n",
       "      <th>91</th>\n",
       "      <th>92</th>\n",
       "      <th>93</th>\n",
       "      <th>94</th>\n",
       "      <th>95</th>\n",
       "      <th>96</th>\n",
       "      <th>97</th>\n",
       "      <th>98</th>\n",
       "      <th>99</th>\n",
       "    </tr>\n",
       "  </thead>\n",
       "  <tbody>\n",
       "    <tr>\n",
       "      <th>0</th>\n",
       "      <td>1.000000</td>\n",
       "      <td>1.000000</td>\n",
       "      <td>1.000000</td>\n",
       "      <td>1.000000</td>\n",
       "      <td>1.000000</td>\n",
       "      <td>1.000000</td>\n",
       "      <td>1.000000</td>\n",
       "      <td>1.000000</td>\n",
       "      <td>1.000000</td>\n",
       "      <td>1.000000</td>\n",
       "      <td>...</td>\n",
       "      <td>1.000000</td>\n",
       "      <td>1.000000</td>\n",
       "      <td>1.000000</td>\n",
       "      <td>1.000000</td>\n",
       "      <td>1.000000</td>\n",
       "      <td>1.000000</td>\n",
       "      <td>1.000000</td>\n",
       "      <td>1.000000</td>\n",
       "      <td>1.000000</td>\n",
       "      <td>1.000000</td>\n",
       "    </tr>\n",
       "    <tr>\n",
       "      <th>1</th>\n",
       "      <td>0.995717</td>\n",
       "      <td>0.997734</td>\n",
       "      <td>0.993440</td>\n",
       "      <td>0.992463</td>\n",
       "      <td>0.997675</td>\n",
       "      <td>1.001778</td>\n",
       "      <td>1.007329</td>\n",
       "      <td>0.999043</td>\n",
       "      <td>1.001009</td>\n",
       "      <td>0.998160</td>\n",
       "      <td>...</td>\n",
       "      <td>1.000060</td>\n",
       "      <td>1.000629</td>\n",
       "      <td>1.000626</td>\n",
       "      <td>0.997395</td>\n",
       "      <td>1.002202</td>\n",
       "      <td>0.998344</td>\n",
       "      <td>1.014621</td>\n",
       "      <td>0.997055</td>\n",
       "      <td>0.998678</td>\n",
       "      <td>0.997362</td>\n",
       "    </tr>\n",
       "    <tr>\n",
       "      <th>2</th>\n",
       "      <td>0.993767</td>\n",
       "      <td>1.005241</td>\n",
       "      <td>0.990497</td>\n",
       "      <td>0.980443</td>\n",
       "      <td>0.998317</td>\n",
       "      <td>1.010982</td>\n",
       "      <td>1.009992</td>\n",
       "      <td>1.002976</td>\n",
       "      <td>1.001801</td>\n",
       "      <td>1.002361</td>\n",
       "      <td>...</td>\n",
       "      <td>1.012819</td>\n",
       "      <td>1.001746</td>\n",
       "      <td>1.010936</td>\n",
       "      <td>0.990842</td>\n",
       "      <td>1.008459</td>\n",
       "      <td>1.003174</td>\n",
       "      <td>1.009335</td>\n",
       "      <td>1.000915</td>\n",
       "      <td>0.995979</td>\n",
       "      <td>0.995922</td>\n",
       "    </tr>\n",
       "    <tr>\n",
       "      <th>3</th>\n",
       "      <td>0.998441</td>\n",
       "      <td>1.016814</td>\n",
       "      <td>0.988421</td>\n",
       "      <td>0.989211</td>\n",
       "      <td>1.010301</td>\n",
       "      <td>1.010385</td>\n",
       "      <td>1.006166</td>\n",
       "      <td>1.015860</td>\n",
       "      <td>1.007591</td>\n",
       "      <td>1.004924</td>\n",
       "      <td>...</td>\n",
       "      <td>1.016365</td>\n",
       "      <td>1.004159</td>\n",
       "      <td>1.012655</td>\n",
       "      <td>0.990408</td>\n",
       "      <td>1.014822</td>\n",
       "      <td>1.011770</td>\n",
       "      <td>1.014436</td>\n",
       "      <td>1.002003</td>\n",
       "      <td>0.990674</td>\n",
       "      <td>0.995130</td>\n",
       "    </tr>\n",
       "    <tr>\n",
       "      <th>4</th>\n",
       "      <td>0.995065</td>\n",
       "      <td>1.022702</td>\n",
       "      <td>0.985613</td>\n",
       "      <td>0.986790</td>\n",
       "      <td>1.010044</td>\n",
       "      <td>1.008066</td>\n",
       "      <td>0.996128</td>\n",
       "      <td>1.024998</td>\n",
       "      <td>1.015236</td>\n",
       "      <td>1.014888</td>\n",
       "      <td>...</td>\n",
       "      <td>1.012870</td>\n",
       "      <td>1.004830</td>\n",
       "      <td>1.016839</td>\n",
       "      <td>0.992575</td>\n",
       "      <td>1.017881</td>\n",
       "      <td>1.012306</td>\n",
       "      <td>1.011785</td>\n",
       "      <td>1.000119</td>\n",
       "      <td>0.991430</td>\n",
       "      <td>0.991146</td>\n",
       "    </tr>\n",
       "    <tr>\n",
       "      <th>...</th>\n",
       "      <td>...</td>\n",
       "      <td>...</td>\n",
       "      <td>...</td>\n",
       "      <td>...</td>\n",
       "      <td>...</td>\n",
       "      <td>...</td>\n",
       "      <td>...</td>\n",
       "      <td>...</td>\n",
       "      <td>...</td>\n",
       "      <td>...</td>\n",
       "      <td>...</td>\n",
       "      <td>...</td>\n",
       "      <td>...</td>\n",
       "      <td>...</td>\n",
       "      <td>...</td>\n",
       "      <td>...</td>\n",
       "      <td>...</td>\n",
       "      <td>...</td>\n",
       "      <td>...</td>\n",
       "      <td>...</td>\n",
       "      <td>...</td>\n",
       "    </tr>\n",
       "    <tr>\n",
       "      <th>2516</th>\n",
       "      <td>2.380636</td>\n",
       "      <td>3.335832</td>\n",
       "      <td>2.491991</td>\n",
       "      <td>2.170976</td>\n",
       "      <td>1.740023</td>\n",
       "      <td>1.247045</td>\n",
       "      <td>2.106085</td>\n",
       "      <td>1.841618</td>\n",
       "      <td>3.686367</td>\n",
       "      <td>1.495410</td>\n",
       "      <td>...</td>\n",
       "      <td>1.876251</td>\n",
       "      <td>3.040735</td>\n",
       "      <td>2.512374</td>\n",
       "      <td>1.761562</td>\n",
       "      <td>1.781141</td>\n",
       "      <td>2.790864</td>\n",
       "      <td>2.759819</td>\n",
       "      <td>2.012677</td>\n",
       "      <td>1.546975</td>\n",
       "      <td>1.619915</td>\n",
       "    </tr>\n",
       "    <tr>\n",
       "      <th>2517</th>\n",
       "      <td>2.375628</td>\n",
       "      <td>3.340577</td>\n",
       "      <td>2.504377</td>\n",
       "      <td>2.188928</td>\n",
       "      <td>1.756380</td>\n",
       "      <td>1.256109</td>\n",
       "      <td>2.105522</td>\n",
       "      <td>1.855624</td>\n",
       "      <td>3.702717</td>\n",
       "      <td>1.496598</td>\n",
       "      <td>...</td>\n",
       "      <td>1.865743</td>\n",
       "      <td>3.026238</td>\n",
       "      <td>2.518211</td>\n",
       "      <td>1.757282</td>\n",
       "      <td>1.795870</td>\n",
       "      <td>2.821494</td>\n",
       "      <td>2.775401</td>\n",
       "      <td>2.027361</td>\n",
       "      <td>1.546858</td>\n",
       "      <td>1.631218</td>\n",
       "    </tr>\n",
       "    <tr>\n",
       "      <th>2518</th>\n",
       "      <td>2.363230</td>\n",
       "      <td>3.347232</td>\n",
       "      <td>2.511060</td>\n",
       "      <td>2.176313</td>\n",
       "      <td>1.751695</td>\n",
       "      <td>1.256105</td>\n",
       "      <td>2.094973</td>\n",
       "      <td>1.863155</td>\n",
       "      <td>3.697518</td>\n",
       "      <td>1.483569</td>\n",
       "      <td>...</td>\n",
       "      <td>1.866230</td>\n",
       "      <td>2.996113</td>\n",
       "      <td>2.522509</td>\n",
       "      <td>1.782256</td>\n",
       "      <td>1.819930</td>\n",
       "      <td>2.801204</td>\n",
       "      <td>2.782455</td>\n",
       "      <td>2.045233</td>\n",
       "      <td>1.556491</td>\n",
       "      <td>1.640991</td>\n",
       "    </tr>\n",
       "    <tr>\n",
       "      <th>2519</th>\n",
       "      <td>2.357037</td>\n",
       "      <td>3.343449</td>\n",
       "      <td>2.519792</td>\n",
       "      <td>2.192161</td>\n",
       "      <td>1.743472</td>\n",
       "      <td>1.259109</td>\n",
       "      <td>2.106954</td>\n",
       "      <td>1.872688</td>\n",
       "      <td>3.688571</td>\n",
       "      <td>1.481355</td>\n",
       "      <td>...</td>\n",
       "      <td>1.856206</td>\n",
       "      <td>2.998346</td>\n",
       "      <td>2.535930</td>\n",
       "      <td>1.772943</td>\n",
       "      <td>1.818017</td>\n",
       "      <td>2.841140</td>\n",
       "      <td>2.788496</td>\n",
       "      <td>2.040058</td>\n",
       "      <td>1.559331</td>\n",
       "      <td>1.643288</td>\n",
       "    </tr>\n",
       "    <tr>\n",
       "      <th>2520</th>\n",
       "      <td>2.365696</td>\n",
       "      <td>3.357624</td>\n",
       "      <td>2.512875</td>\n",
       "      <td>2.207268</td>\n",
       "      <td>1.736611</td>\n",
       "      <td>1.257215</td>\n",
       "      <td>2.109744</td>\n",
       "      <td>1.894734</td>\n",
       "      <td>3.685973</td>\n",
       "      <td>1.469426</td>\n",
       "      <td>...</td>\n",
       "      <td>1.880438</td>\n",
       "      <td>3.004656</td>\n",
       "      <td>2.521365</td>\n",
       "      <td>1.765668</td>\n",
       "      <td>1.813576</td>\n",
       "      <td>2.862982</td>\n",
       "      <td>2.801184</td>\n",
       "      <td>2.037396</td>\n",
       "      <td>1.576345</td>\n",
       "      <td>1.654397</td>\n",
       "    </tr>\n",
       "  </tbody>\n",
       "</table>\n",
       "<p>2521 rows × 100 columns</p>\n",
       "</div>"
      ],
      "text/plain": [
       "            0         1         2         3         4         5         6   \\\n",
       "0     1.000000  1.000000  1.000000  1.000000  1.000000  1.000000  1.000000   \n",
       "1     0.995717  0.997734  0.993440  0.992463  0.997675  1.001778  1.007329   \n",
       "2     0.993767  1.005241  0.990497  0.980443  0.998317  1.010982  1.009992   \n",
       "3     0.998441  1.016814  0.988421  0.989211  1.010301  1.010385  1.006166   \n",
       "4     0.995065  1.022702  0.985613  0.986790  1.010044  1.008066  0.996128   \n",
       "...        ...       ...       ...       ...       ...       ...       ...   \n",
       "2516  2.380636  3.335832  2.491991  2.170976  1.740023  1.247045  2.106085   \n",
       "2517  2.375628  3.340577  2.504377  2.188928  1.756380  1.256109  2.105522   \n",
       "2518  2.363230  3.347232  2.511060  2.176313  1.751695  1.256105  2.094973   \n",
       "2519  2.357037  3.343449  2.519792  2.192161  1.743472  1.259109  2.106954   \n",
       "2520  2.365696  3.357624  2.512875  2.207268  1.736611  1.257215  2.109744   \n",
       "\n",
       "            7         8         9   ...        90        91        92  \\\n",
       "0     1.000000  1.000000  1.000000  ...  1.000000  1.000000  1.000000   \n",
       "1     0.999043  1.001009  0.998160  ...  1.000060  1.000629  1.000626   \n",
       "2     1.002976  1.001801  1.002361  ...  1.012819  1.001746  1.010936   \n",
       "3     1.015860  1.007591  1.004924  ...  1.016365  1.004159  1.012655   \n",
       "4     1.024998  1.015236  1.014888  ...  1.012870  1.004830  1.016839   \n",
       "...        ...       ...       ...  ...       ...       ...       ...   \n",
       "2516  1.841618  3.686367  1.495410  ...  1.876251  3.040735  2.512374   \n",
       "2517  1.855624  3.702717  1.496598  ...  1.865743  3.026238  2.518211   \n",
       "2518  1.863155  3.697518  1.483569  ...  1.866230  2.996113  2.522509   \n",
       "2519  1.872688  3.688571  1.481355  ...  1.856206  2.998346  2.535930   \n",
       "2520  1.894734  3.685973  1.469426  ...  1.880438  3.004656  2.521365   \n",
       "\n",
       "            93        94        95        96        97        98        99  \n",
       "0     1.000000  1.000000  1.000000  1.000000  1.000000  1.000000  1.000000  \n",
       "1     0.997395  1.002202  0.998344  1.014621  0.997055  0.998678  0.997362  \n",
       "2     0.990842  1.008459  1.003174  1.009335  1.000915  0.995979  0.995922  \n",
       "3     0.990408  1.014822  1.011770  1.014436  1.002003  0.990674  0.995130  \n",
       "4     0.992575  1.017881  1.012306  1.011785  1.000119  0.991430  0.991146  \n",
       "...        ...       ...       ...       ...       ...       ...       ...  \n",
       "2516  1.761562  1.781141  2.790864  2.759819  2.012677  1.546975  1.619915  \n",
       "2517  1.757282  1.795870  2.821494  2.775401  2.027361  1.546858  1.631218  \n",
       "2518  1.782256  1.819930  2.801204  2.782455  2.045233  1.556491  1.640991  \n",
       "2519  1.772943  1.818017  2.841140  2.788496  2.040058  1.559331  1.643288  \n",
       "2520  1.765668  1.813576  2.862982  2.801184  2.037396  1.576345  1.654397  \n",
       "\n",
       "[2521 rows x 100 columns]"
      ]
     },
     "execution_count": 42,
     "metadata": {},
     "output_type": "execute_result"
    }
   ],
   "source": [
    "# Running a Monte Carlo simulation to forecast 10 years cumulative returns\n",
    "mc_10_years.calc_cumulative_return()"
   ]
  },
  {
   "cell_type": "code",
   "execution_count": 43,
   "metadata": {},
   "outputs": [
    {
     "data": {
      "text/plain": [
       "<matplotlib.axes._subplots.AxesSubplot at 0x21cbd348310>"
      ]
     },
     "execution_count": 43,
     "metadata": {},
     "output_type": "execute_result"
    },
    {
     "data": {
      "image/png": "[encoded data removed]",
      "text/plain": [
       "<Figure size 432x288 with 1 Axes>"
      ]
     },
     "metadata": {
      "needs_background": "light"
     },
     "output_type": "display_data"
    }
   ],
   "source": [
    "# Plot simulation outcomes\n",
    "mc_10_years.plot_simulation()"
   ]
  },
  {
   "cell_type": "code",
   "execution_count": 44,
   "metadata": {},
   "outputs": [
    {
     "data": {
      "text/plain": [
       "<matplotlib.axes._subplots.AxesSubplot at 0x21cbe649df0>"
      ]
     },
     "execution_count": 44,
     "metadata": {},
     "output_type": "execute_result"
    },
    {
     "data": {
      "image/png": "[encoded data removed]",
      "text/plain": [
       "<Figure size 432x288 with 1 Axes>"
      ]
     },
     "metadata": {
      "needs_background": "light"
     },
     "output_type": "display_data"
    }
   ],
   "source": [
    "# Plot probability distribution and confidence intervals\n",
    "mc_10_years.plot_distribution()"
   ]
  },
  {
   "cell_type": "code",
   "execution_count": 45,
   "metadata": {},
   "outputs": [
    {
     "name": "stdout",
     "output_type": "stream",
     "text": [
      "count           100.000000\n",
      "mean              1.923687\n",
      "std               0.573115\n",
      "min               0.803192\n",
      "25%               1.492195\n",
      "50%               1.813747\n",
      "75%               2.256370\n",
      "max               3.685973\n",
      "95% CI Lower      1.121737\n",
      "95% CI Upper      3.189964\n",
      "Name: 2520, dtype: float64\n"
     ]
    }
   ],
   "source": [
    "# Fetch summary statistics from the Monte Carlo simulation results\n",
    "summary_statistics_10_years = mc_10_years.summarize_cumulative_return()\n",
    "\n",
    "# Print summary statistics\n",
    "print(summary_statistics_10_years)"
   ]
  },
  {
   "cell_type": "code",
   "execution_count": 46,
   "metadata": {},
   "outputs": [
    {
     "name": "stdout",
     "output_type": "stream",
     "text": [
      "There is a 95% chance that an initial investment of $20000 in the portfolio over the next 10 years will end within in the range of $22434.744119193132 and $63799.28573264197\n"
     ]
    }
   ],
   "source": [
    "# Set initial investment\n",
    "initial_investment = 20000\n",
    "\n",
    "# Use the lower and upper `95%` confidence intervals to calculate the range of the possible outcomes of our $60,000\n",
    "ci_lower_ten = summary_statistics_10_years[8] * initial_investment\n",
    "ci_upper_ten = summary_statistics_10_years[9] * initial_investment\n",
    "\n",
    "# Print results\n",
    "print(f\"There is a 95% chance that an initial investment of ${initial_investment} in the portfolio\"\n",
    "      f\" over the next 10 years will end within in the range of\"\n",
    "      f\" ${ci_lower_ten} and ${ci_upper_ten}\")"
   ]
  },
  {
   "cell_type": "code",
   "execution_count": null,
   "metadata": {},
   "outputs": [],
   "source": []
  }
 ],
 "metadata": {
  "kernelspec": {
   "display_name": "Python 3",
   "language": "python",
   "name": "python3"
  },
  "language_info": {
   "codemirror_mode": {
    "name": "ipython",
    "version": 3
   },
   "file_extension": ".py",
   "mimetype": "text/x-python",
   "name": "python",
   "nbconvert_exporter": "python",
   "pygments_lexer": "ipython3",
   "version": "3.8.3"
  }
 },
 "nbformat": 4,
 "nbformat_minor": 4
}
